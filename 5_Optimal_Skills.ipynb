{
 "cells": [
  {
   "cell_type": "markdown",
   "id": "9d8155b0",
   "metadata": {},
   "source": []
  },
  {
   "cell_type": "markdown",
   "id": "ddee25e8",
   "metadata": {},
   "source": [
    "# 5. Optimal Skills"
   ]
  },
  {
   "cell_type": "markdown",
   "id": "89ec2bef",
   "metadata": {},
   "source": [
    "### Importar módulos y librerías"
   ]
  },
  {
   "cell_type": "code",
   "execution_count": null,
   "id": "516b05ad",
   "metadata": {},
   "outputs": [],
   "source": [
    "import ast\n",
    "import pandas as pd\n",
    "import seaborn as sns\n",
    "import matplotlib.pyplot as plt\n",
    "from datasets import load_dataset"
   ]
  },
  {
   "cell_type": "markdown",
   "id": "f761732b",
   "metadata": {},
   "source": [
    "### Cargar datos"
   ]
  },
  {
   "cell_type": "code",
   "execution_count": 2,
   "id": "4b3953d4",
   "metadata": {},
   "outputs": [],
   "source": [
    "dataset = load_dataset('lukebarousse/data_jobs')\n",
    "df = dataset['train'].to_pandas()"
   ]
  },
  {
   "cell_type": "markdown",
   "id": "a23ef60c",
   "metadata": {},
   "source": [
    "### Limpieza de datos"
   ]
  },
  {
   "cell_type": "code",
   "execution_count": 3,
   "id": "1921b255",
   "metadata": {},
   "outputs": [],
   "source": [
    "df['job_posted_date'] = pd.to_datetime(df['job_posted_date'])\n",
    "df['job_skills'] = df['job_skills'].apply(lambda x: ast.literal_eval(x) if pd.notna(x) else x)"
   ]
  },
  {
   "cell_type": "markdown",
   "id": "f7f41b6d",
   "metadata": {},
   "source": [
    "Creamos un nuevo DataFrame para guardar los puestos de trabajo de Data Analyst que sean de Argentina"
   ]
  },
  {
   "cell_type": "code",
   "execution_count": 4,
   "id": "00c238fc",
   "metadata": {},
   "outputs": [
    {
     "data": {
      "text/html": [
       "<div>\n",
       "<style scoped>\n",
       "    .dataframe tbody tr th:only-of-type {\n",
       "        vertical-align: middle;\n",
       "    }\n",
       "\n",
       "    .dataframe tbody tr th {\n",
       "        vertical-align: top;\n",
       "    }\n",
       "\n",
       "    .dataframe thead th {\n",
       "        text-align: right;\n",
       "    }\n",
       "</style>\n",
       "<table border=\"1\" class=\"dataframe\">\n",
       "  <thead>\n",
       "    <tr style=\"text-align: right;\">\n",
       "      <th></th>\n",
       "      <th>salary_year_avg</th>\n",
       "      <th>job_skills</th>\n",
       "    </tr>\n",
       "  </thead>\n",
       "  <tbody>\n",
       "    <tr>\n",
       "      <th>93501</th>\n",
       "      <td>111202.0</td>\n",
       "      <td>sql</td>\n",
       "    </tr>\n",
       "    <tr>\n",
       "      <th>93501</th>\n",
       "      <td>111202.0</td>\n",
       "      <td>python</td>\n",
       "    </tr>\n",
       "    <tr>\n",
       "      <th>93501</th>\n",
       "      <td>111202.0</td>\n",
       "      <td>flow</td>\n",
       "    </tr>\n",
       "    <tr>\n",
       "      <th>345103</th>\n",
       "      <td>45000.0</td>\n",
       "      <td>sql</td>\n",
       "    </tr>\n",
       "    <tr>\n",
       "      <th>345103</th>\n",
       "      <td>45000.0</td>\n",
       "      <td>python</td>\n",
       "    </tr>\n",
       "  </tbody>\n",
       "</table>\n",
       "</div>"
      ],
      "text/plain": [
       "        salary_year_avg job_skills\n",
       "93501          111202.0        sql\n",
       "93501          111202.0     python\n",
       "93501          111202.0       flow\n",
       "345103          45000.0        sql\n",
       "345103          45000.0     python"
      ]
     },
     "execution_count": 4,
     "metadata": {},
     "output_type": "execute_result"
    }
   ],
   "source": [
    "df_DA_ARG = df[(df['job_title_short'] == 'Data Analyst') & (df['job_country'] == 'Argentina')].copy()\n",
    "\n",
    "df_DA_ARG = df_DA_ARG.dropna(subset=['salary_year_avg'])\n",
    "\n",
    "df_DA_ARG_exploded = df_DA_ARG.explode('job_skills')\n",
    "\n",
    "df_DA_ARG_exploded[['salary_year_avg', 'job_skills']].head(5)"
   ]
  },
  {
   "cell_type": "markdown",
   "id": "849850e4",
   "metadata": {},
   "source": [
    "### Calcular el porcentaje de ofertas de trabajo que tienen skills"
   ]
  },
  {
   "cell_type": "markdown",
   "id": "a5853e7f",
   "metadata": {},
   "source": [
    "Agrupamos los datos por skills y calculamos la cantidad y la mediana del salario para cada skill.\n",
    "Ordenamos los resultados en orden descendente."
   ]
  },
  {
   "cell_type": "code",
   "execution_count": 5,
   "id": "1609cf60",
   "metadata": {},
   "outputs": [],
   "source": [
    "df_DA_skills = df_DA_ARG_exploded.groupby('job_skills')['salary_year_avg'].agg(['count', 'median']).sort_values(by='count', ascending=False)"
   ]
  },
  {
   "cell_type": "markdown",
   "id": "bb80dde9",
   "metadata": {},
   "source": [
    "Renombramos las columnas."
   ]
  },
  {
   "cell_type": "code",
   "execution_count": 6,
   "id": "e6b0726f",
   "metadata": {},
   "outputs": [],
   "source": [
    "df_DA_skills = df_DA_skills.rename(columns={'count': 'skill_count', 'median': 'median_salary'})"
   ]
  },
  {
   "cell_type": "markdown",
   "id": "8943ed0f",
   "metadata": {},
   "source": [
    "Obtenemos la cantidad de puestos de Data Analyst que tengan información disponible sobre el salario"
   ]
  },
  {
   "cell_type": "code",
   "execution_count": 7,
   "id": "048e3a76",
   "metadata": {},
   "outputs": [],
   "source": [
    "DA_job_count = len(df_DA_ARG)  "
   ]
  },
  {
   "cell_type": "markdown",
   "id": "fbe88775",
   "metadata": {},
   "source": [
    "Calculamos el porcentaje que cada cantidad de skills representa del total de puestos de Data Analyst. \n",
    "Se filtran las skills que no tienen puestos de trabajo asociados a ellas."
   ]
  },
  {
   "cell_type": "code",
   "execution_count": 8,
   "id": "fce8db00",
   "metadata": {},
   "outputs": [
    {
     "data": {
      "text/html": [
       "<div>\n",
       "<style scoped>\n",
       "    .dataframe tbody tr th:only-of-type {\n",
       "        vertical-align: middle;\n",
       "    }\n",
       "\n",
       "    .dataframe tbody tr th {\n",
       "        vertical-align: top;\n",
       "    }\n",
       "\n",
       "    .dataframe thead th {\n",
       "        text-align: right;\n",
       "    }\n",
       "</style>\n",
       "<table border=\"1\" class=\"dataframe\">\n",
       "  <thead>\n",
       "    <tr style=\"text-align: right;\">\n",
       "      <th></th>\n",
       "      <th>skill_count</th>\n",
       "      <th>median_salary</th>\n",
       "      <th>skill_percent</th>\n",
       "    </tr>\n",
       "    <tr>\n",
       "      <th>job_skills</th>\n",
       "      <th></th>\n",
       "      <th></th>\n",
       "      <th></th>\n",
       "    </tr>\n",
       "  </thead>\n",
       "  <tbody>\n",
       "    <tr>\n",
       "      <th>sql</th>\n",
       "      <td>3</td>\n",
       "      <td>111175.0</td>\n",
       "      <td>75.0</td>\n",
       "    </tr>\n",
       "    <tr>\n",
       "      <th>python</th>\n",
       "      <td>3</td>\n",
       "      <td>111175.0</td>\n",
       "      <td>75.0</td>\n",
       "    </tr>\n",
       "    <tr>\n",
       "      <th>excel</th>\n",
       "      <td>1</td>\n",
       "      <td>45000.0</td>\n",
       "      <td>25.0</td>\n",
       "    </tr>\n",
       "    <tr>\n",
       "      <th>flow</th>\n",
       "      <td>1</td>\n",
       "      <td>111202.0</td>\n",
       "      <td>25.0</td>\n",
       "    </tr>\n",
       "    <tr>\n",
       "      <th>power bi</th>\n",
       "      <td>1</td>\n",
       "      <td>45000.0</td>\n",
       "      <td>25.0</td>\n",
       "    </tr>\n",
       "    <tr>\n",
       "      <th>javascript</th>\n",
       "      <td>1</td>\n",
       "      <td>45000.0</td>\n",
       "      <td>25.0</td>\n",
       "    </tr>\n",
       "    <tr>\n",
       "      <th>sql server</th>\n",
       "      <td>1</td>\n",
       "      <td>45000.0</td>\n",
       "      <td>25.0</td>\n",
       "    </tr>\n",
       "    <tr>\n",
       "      <th>tableau</th>\n",
       "      <td>1</td>\n",
       "      <td>45000.0</td>\n",
       "      <td>25.0</td>\n",
       "    </tr>\n",
       "  </tbody>\n",
       "</table>\n",
       "</div>"
      ],
      "text/plain": [
       "            skill_count  median_salary  skill_percent\n",
       "job_skills                                           \n",
       "sql                   3       111175.0           75.0\n",
       "python                3       111175.0           75.0\n",
       "excel                 1        45000.0           25.0\n",
       "flow                  1       111202.0           25.0\n",
       "power bi              1        45000.0           25.0\n",
       "javascript            1        45000.0           25.0\n",
       "sql server            1        45000.0           25.0\n",
       "tableau               1        45000.0           25.0"
      ]
     },
     "execution_count": 8,
     "metadata": {},
     "output_type": "execute_result"
    }
   ],
   "source": [
    "df_DA_skills['skill_percent'] = df_DA_skills['skill_count'] / DA_job_count * 100\n",
    "\n",
    "df_DA_skills = df_DA_skills[df_DA_skills['skill_count'] > 0]\n",
    "\n",
    "df_DA_skills"
   ]
  },
  {
   "cell_type": "markdown",
   "id": "8a401f09",
   "metadata": {},
   "source": [
    "### Scatter plot: Mediana del salario vs Porcentaje de demanda de skills"
   ]
  },
  {
   "cell_type": "markdown",
   "id": "a23bb53d",
   "metadata": {},
   "source": [
    "Para graficar posteriormente, vamos a poner la condición de que el porcentaje de skills debe ser mayor al 5%"
   ]
  },
  {
   "cell_type": "code",
   "execution_count": 20,
   "id": "64d61e56",
   "metadata": {},
   "outputs": [],
   "source": [
    "skill_limit = 20\n",
    "\n",
    "df_DA_skills_high_demand = df_DA_skills[df_DA_skills['skill_percent'] > skill_limit]"
   ]
  },
  {
   "cell_type": "code",
   "execution_count": 21,
   "id": "3a696b40",
   "metadata": {},
   "outputs": [
    {
     "name": "stdout",
     "output_type": "stream",
     "text": [
      "6 [-0.53088212  0.8364587 ]\n",
      "7 [-0.02872243 -0.60272792]\n"
     ]
    },
    {
     "data": {
      "image/png": "[encoded data removed]",
      "text/plain": [
       "<Figure size 640x480 with 1 Axes>"
      ]
     },
     "metadata": {},
     "output_type": "display_data"
    }
   ],
   "source": [
    "from adjustText import adjust_text\n",
    "\n",
    "plt.scatter(df_DA_skills_high_demand['skill_percent'], df_DA_skills_high_demand['median_salary'])\n",
    "plt.xlabel('Porcentaje de puestos de trabajo')\n",
    "plt.ylabel('Mediana del salario ($USD)')\n",
    "plt.title('Skills más óptimas para Data Analysts en Argentina')\n",
    "\n",
    "# Get current axes, set limits, and format axes\n",
    "ax = plt.gca()\n",
    "ax.yaxis.set_major_formatter(plt.FuncFormatter(lambda y, pos: f'${int(y/1000)}K'))  # Example formatting y-axis\n",
    "\n",
    "# Add labels to points and collect them in a list\n",
    "texts = []\n",
    "for i, txt in enumerate(df_DA_skills_high_demand.index):\n",
    "    texts.append(plt.text(df_DA_skills_high_demand['skill_percent'].iloc[i], df_DA_skills_high_demand['median_salary'].iloc[i], \" \" + txt))\n",
    "\n",
    "# Ajusta el texto para evitar superposiciones\n",
    "adjust_text(texts, arrowprops=dict(arrowstyle='->', color='gray'))\n",
    "\n",
    "plt.show()"
   ]
  },
  {
   "cell_type": "markdown",
   "id": "930ab2c1",
   "metadata": {},
   "source": [
    "### Colorear por skills"
   ]
  },
  {
   "cell_type": "code",
   "execution_count": 28,
   "id": "c5d83d55",
   "metadata": {},
   "outputs": [
    {
     "ename": "KeyboardInterrupt",
     "evalue": "",
     "output_type": "error",
     "traceback": [
      "\u001b[31m---------------------------------------------------------------------------\u001b[39m",
      "\u001b[31mKeyboardInterrupt\u001b[39m                         Traceback (most recent call last)",
      "\u001b[36mCell\u001b[39m\u001b[36m \u001b[39m\u001b[32mIn[28]\u001b[39m\u001b[32m, line 12\u001b[39m\n\u001b[32m     10\u001b[39m technology_dict = {}\n\u001b[32m     11\u001b[39m \u001b[38;5;28;01mfor\u001b[39;00m row \u001b[38;5;129;01min\u001b[39;00m df_technology:\n\u001b[32m---> \u001b[39m\u001b[32m12\u001b[39m     row_dict = \u001b[43mast\u001b[49m\u001b[43m.\u001b[49m\u001b[43mliteral_eval\u001b[49m\u001b[43m(\u001b[49m\u001b[43mrow\u001b[49m\u001b[43m)\u001b[49m  \u001b[38;5;66;03m# Conversión string a diccionario\u001b[39;00m\n\u001b[32m     13\u001b[39m     \u001b[38;5;28;01mfor\u001b[39;00m key, value \u001b[38;5;129;01min\u001b[39;00m row_dict.items():\n\u001b[32m     14\u001b[39m         \u001b[38;5;28;01mif\u001b[39;00m key \u001b[38;5;129;01min\u001b[39;00m technology_dict:  \u001b[38;5;66;03m# if key already exists in technology_dict, add value to existing value\u001b[39;00m\n",
      "\u001b[36mFile \u001b[39m\u001b[32mc:\\Users\\Admin\\AppData\\Local\\Programs\\Python\\Python312\\Lib\\ast.py:112\u001b[39m, in \u001b[36mliteral_eval\u001b[39m\u001b[34m(node_or_string)\u001b[39m\n\u001b[32m    110\u001b[39m                 \u001b[38;5;28;01mreturn\u001b[39;00m left - right\n\u001b[32m    111\u001b[39m     \u001b[38;5;28;01mreturn\u001b[39;00m _convert_signed_num(node)\n\u001b[32m--> \u001b[39m\u001b[32m112\u001b[39m \u001b[38;5;28;01mreturn\u001b[39;00m \u001b[43m_convert\u001b[49m\u001b[43m(\u001b[49m\u001b[43mnode_or_string\u001b[49m\u001b[43m)\u001b[49m\n",
      "\u001b[36mFile \u001b[39m\u001b[32mc:\\Users\\Admin\\AppData\\Local\\Programs\\Python\\Python312\\Lib\\ast.py:86\u001b[39m, in \u001b[36mliteral_eval.<locals>._convert\u001b[39m\u001b[34m(node)\u001b[39m\n\u001b[32m     84\u001b[39m             \u001b[38;5;28;01mreturn\u001b[39;00m - operand\n\u001b[32m     85\u001b[39m     \u001b[38;5;28;01mreturn\u001b[39;00m _convert_num(node)\n\u001b[32m---> \u001b[39m\u001b[32m86\u001b[39m \u001b[38;5;28;01mdef\u001b[39;00m\u001b[38;5;250m \u001b[39m\u001b[34m_convert\u001b[39m(node):\n\u001b[32m     87\u001b[39m     \u001b[38;5;28;01mif\u001b[39;00m \u001b[38;5;28misinstance\u001b[39m(node, Constant):\n\u001b[32m     88\u001b[39m         \u001b[38;5;28;01mreturn\u001b[39;00m node.value\n",
      "\u001b[31mKeyboardInterrupt\u001b[39m: "
     ]
    }
   ],
   "source": [
    "df_technology = df['job_type_skills'].copy()\n",
    "\n",
    "# Eliminamos duplicados\n",
    "df_technology = df_technology.drop_duplicates()\n",
    "\n",
    "# Elimninamos filas con valores nulos\n",
    "df_technology = df_technology.dropna()\n",
    "\n",
    "# Combinamos los diccionarios de skills en una sola lista\n",
    "technology_dict = {}\n",
    "for row in df_technology:\n",
    "    row_dict = ast.literal_eval(row)  # Conversión string a diccionario\n",
    "    for key, value in row_dict.items():\n",
    "        if key in technology_dict:  # if key already exists in technology_dict, add value to existing value\n",
    "            technology_dict[key] += value\n",
    "        else:                       # if key does not exist in technology_dict, add key and value\n",
    "            technology_dict[key] = value\n",
    "\n",
    "# Remove duplicates by converting values to set then back to list\n",
    "for key, value in technology_dict.items():\n",
    "    technology_dict[key] = list(set(value))\n",
    "\n",
    "technology_dict"
   ]
  },
  {
   "cell_type": "code",
   "execution_count": 25,
   "id": "38096324",
   "metadata": {},
   "outputs": [
    {
     "data": {
      "text/html": [
       "<div>\n",
       "<style scoped>\n",
       "    .dataframe tbody tr th:only-of-type {\n",
       "        vertical-align: middle;\n",
       "    }\n",
       "\n",
       "    .dataframe tbody tr th {\n",
       "        vertical-align: top;\n",
       "    }\n",
       "\n",
       "    .dataframe thead th {\n",
       "        text-align: right;\n",
       "    }\n",
       "</style>\n",
       "<table border=\"1\" class=\"dataframe\">\n",
       "  <thead>\n",
       "    <tr style=\"text-align: right;\">\n",
       "      <th></th>\n",
       "      <th>technology</th>\n",
       "      <th>skills</th>\n",
       "    </tr>\n",
       "  </thead>\n",
       "  <tbody>\n",
       "    <tr>\n",
       "      <th>0</th>\n",
       "      <td>analyst_tools</td>\n",
       "      <td>datarobot</td>\n",
       "    </tr>\n",
       "    <tr>\n",
       "      <th>0</th>\n",
       "      <td>analyst_tools</td>\n",
       "      <td>sap</td>\n",
       "    </tr>\n",
       "    <tr>\n",
       "      <th>0</th>\n",
       "      <td>analyst_tools</td>\n",
       "      <td>msaccess</td>\n",
       "    </tr>\n",
       "    <tr>\n",
       "      <th>0</th>\n",
       "      <td>analyst_tools</td>\n",
       "      <td>looker</td>\n",
       "    </tr>\n",
       "    <tr>\n",
       "      <th>0</th>\n",
       "      <td>analyst_tools</td>\n",
       "      <td>splunk</td>\n",
       "    </tr>\n",
       "    <tr>\n",
       "      <th>...</th>\n",
       "      <td>...</td>\n",
       "      <td>...</td>\n",
       "    </tr>\n",
       "    <tr>\n",
       "      <th>9</th>\n",
       "      <td>sync</td>\n",
       "      <td>microsoft teams</td>\n",
       "    </tr>\n",
       "    <tr>\n",
       "      <th>9</th>\n",
       "      <td>sync</td>\n",
       "      <td>wire</td>\n",
       "    </tr>\n",
       "    <tr>\n",
       "      <th>9</th>\n",
       "      <td>sync</td>\n",
       "      <td>zoom</td>\n",
       "    </tr>\n",
       "    <tr>\n",
       "      <th>9</th>\n",
       "      <td>sync</td>\n",
       "      <td>unify</td>\n",
       "    </tr>\n",
       "    <tr>\n",
       "      <th>9</th>\n",
       "      <td>sync</td>\n",
       "      <td>symphony</td>\n",
       "    </tr>\n",
       "  </tbody>\n",
       "</table>\n",
       "<p>256 rows × 2 columns</p>\n",
       "</div>"
      ],
      "text/plain": [
       "       technology           skills\n",
       "0   analyst_tools        datarobot\n",
       "0   analyst_tools              sap\n",
       "0   analyst_tools         msaccess\n",
       "0   analyst_tools           looker\n",
       "0   analyst_tools           splunk\n",
       "..            ...              ...\n",
       "9            sync  microsoft teams\n",
       "9            sync             wire\n",
       "9            sync             zoom\n",
       "9            sync            unify\n",
       "9            sync         symphony\n",
       "\n",
       "[256 rows x 2 columns]"
      ]
     },
     "execution_count": 25,
     "metadata": {},
     "output_type": "execute_result"
    }
   ],
   "source": [
    "# Convertimos el diccionario a un DataFrame\n",
    "df_technology = pd.DataFrame(list(technology_dict.items()), columns=['technology', 'skills'])\n",
    "\n",
    "df_technology = df_technology.explode('skills')\n",
    "\n",
    "df_technology"
   ]
  },
  {
   "cell_type": "code",
   "execution_count": 26,
   "id": "3e27d901",
   "metadata": {},
   "outputs": [
    {
     "data": {
      "text/html": [
       "<div>\n",
       "<style scoped>\n",
       "    .dataframe tbody tr th:only-of-type {\n",
       "        vertical-align: middle;\n",
       "    }\n",
       "\n",
       "    .dataframe tbody tr th {\n",
       "        vertical-align: top;\n",
       "    }\n",
       "\n",
       "    .dataframe thead th {\n",
       "        text-align: right;\n",
       "    }\n",
       "</style>\n",
       "<table border=\"1\" class=\"dataframe\">\n",
       "  <thead>\n",
       "    <tr style=\"text-align: right;\">\n",
       "      <th></th>\n",
       "      <th>skill_count</th>\n",
       "      <th>median_salary</th>\n",
       "      <th>skill_percent</th>\n",
       "      <th>technology</th>\n",
       "      <th>skills</th>\n",
       "    </tr>\n",
       "  </thead>\n",
       "  <tbody>\n",
       "    <tr>\n",
       "      <th>0</th>\n",
       "      <td>3</td>\n",
       "      <td>111175.0</td>\n",
       "      <td>75.0</td>\n",
       "      <td>programming</td>\n",
       "      <td>sql</td>\n",
       "    </tr>\n",
       "    <tr>\n",
       "      <th>1</th>\n",
       "      <td>3</td>\n",
       "      <td>111175.0</td>\n",
       "      <td>75.0</td>\n",
       "      <td>programming</td>\n",
       "      <td>python</td>\n",
       "    </tr>\n",
       "    <tr>\n",
       "      <th>2</th>\n",
       "      <td>1</td>\n",
       "      <td>45000.0</td>\n",
       "      <td>25.0</td>\n",
       "      <td>analyst_tools</td>\n",
       "      <td>excel</td>\n",
       "    </tr>\n",
       "    <tr>\n",
       "      <th>3</th>\n",
       "      <td>1</td>\n",
       "      <td>111202.0</td>\n",
       "      <td>25.0</td>\n",
       "      <td>other</td>\n",
       "      <td>flow</td>\n",
       "    </tr>\n",
       "    <tr>\n",
       "      <th>4</th>\n",
       "      <td>1</td>\n",
       "      <td>45000.0</td>\n",
       "      <td>25.0</td>\n",
       "      <td>analyst_tools</td>\n",
       "      <td>power bi</td>\n",
       "    </tr>\n",
       "    <tr>\n",
       "      <th>5</th>\n",
       "      <td>1</td>\n",
       "      <td>45000.0</td>\n",
       "      <td>25.0</td>\n",
       "      <td>programming</td>\n",
       "      <td>javascript</td>\n",
       "    </tr>\n",
       "    <tr>\n",
       "      <th>6</th>\n",
       "      <td>1</td>\n",
       "      <td>45000.0</td>\n",
       "      <td>25.0</td>\n",
       "      <td>databases</td>\n",
       "      <td>sql server</td>\n",
       "    </tr>\n",
       "    <tr>\n",
       "      <th>7</th>\n",
       "      <td>1</td>\n",
       "      <td>45000.0</td>\n",
       "      <td>25.0</td>\n",
       "      <td>analyst_tools</td>\n",
       "      <td>tableau</td>\n",
       "    </tr>\n",
       "  </tbody>\n",
       "</table>\n",
       "</div>"
      ],
      "text/plain": [
       "   skill_count  median_salary  skill_percent     technology      skills\n",
       "0            3       111175.0           75.0    programming         sql\n",
       "1            3       111175.0           75.0    programming      python\n",
       "2            1        45000.0           25.0  analyst_tools       excel\n",
       "3            1       111202.0           25.0          other        flow\n",
       "4            1        45000.0           25.0  analyst_tools    power bi\n",
       "5            1        45000.0           25.0    programming  javascript\n",
       "6            1        45000.0           25.0      databases  sql server\n",
       "7            1        45000.0           25.0  analyst_tools     tableau"
      ]
     },
     "execution_count": 26,
     "metadata": {},
     "output_type": "execute_result"
    }
   ],
   "source": [
    "# Mergea los DataFrames, df_DA_skills and df_technology, basado en la columna job_skills y skills, \n",
    "# creando el nuevo DataFrame df_DA_skills_tech.\n",
    "\n",
    "df_DA_skills_tech = df_DA_skills.merge(df_technology, left_on='job_skills', right_on='skills')\n",
    "\n",
    "df_DA_skills_tech"
   ]
  },
  {
   "cell_type": "code",
   "execution_count": 27,
   "id": "fc74a9ad",
   "metadata": {},
   "outputs": [],
   "source": [
    "# Filtro: si el porcentaje supera el skill limit (definido anteriormente como 20)\n",
    "df_DA_skills_tech_high_demand = df_DA_skills_tech[df_DA_skills_tech['skill_percent'] > skill_limit]"
   ]
  },
  {
   "cell_type": "code",
   "execution_count": 30,
   "id": "4ef941e0",
   "metadata": {},
   "outputs": [
    {
     "data": {
      "image/png": "[encoded data removed]",
      "text/plain": [
       "<Figure size 640x480 with 1 Axes>"
      ]
     },
     "metadata": {},
     "output_type": "display_data"
    }
   ],
   "source": [
    "sns.scatterplot(\n",
    "    data=df_DA_skills_tech_high_demand,\n",
    "    x='skill_percent',\n",
    "    y='median_salary',\n",
    "    hue='technology'\n",
    ")\n",
    "\n",
    "sns.despine()\n",
    "sns.set_theme(style='ticks')\n",
    "\n",
    "# Prepare texts for adjustText\n",
    "texts = []\n",
    "for i, txt in enumerate(df_DA_skills_high_demand.index):\n",
    "    texts.append(plt.text(df_DA_skills_high_demand['skill_percent'].iloc[i], df_DA_skills_high_demand['median_salary'].iloc[i], txt))\n",
    "\n",
    "# Adjust text to avoid overlap\n",
    "adjust_text(texts, arrowprops=dict(arrowstyle='->', color='gray'))\n",
    "\n",
    "# Set axis labels, title, and legend\n",
    "plt.xlabel('Porcentaje de trabajos de Data Analyst')\n",
    "plt.ylabel('Mediana del salario anual')\n",
    "plt.title('Skills más óptimas para Data Analysts en Argentina')\n",
    "plt.legend(title='Technology')\n",
    "\n",
    "from matplotlib.ticker import PercentFormatter\n",
    "ax = plt.gca()\n",
    "ax.yaxis.set_major_formatter(plt.FuncFormatter(lambda y, pos: f'${int(y/1000)}K'))\n",
    "ax.xaxis.set_major_formatter(PercentFormatter(decimals=0))\n",
    "\n",
    "# Adjust layout and display plot \n",
    "plt.tight_layout()\n",
    "plt.show()"
   ]
  }
 ],
 "metadata": {
  "kernelspec": {
   "display_name": "Python 3",
   "language": "python",
   "name": "python3"
  },
  "language_info": {
   "codemirror_mode": {
    "name": "ipython",
    "version": 3
   },
   "file_extension": ".py",
   "mimetype": "text/x-python",
   "name": "python",
   "nbconvert_exporter": "python",
   "pygments_lexer": "ipython3",
   "version": "3.12.10"
  }
 },
 "nbformat": 4,
 "nbformat_minor": 5
}
