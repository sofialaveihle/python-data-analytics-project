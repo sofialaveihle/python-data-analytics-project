{
 "cells": [
  {
   "cell_type": "markdown",
   "id": "f62e3640",
   "metadata": {},
   "source": [
    "# 4. Salary Analysis"
   ]
  },
  {
   "cell_type": "markdown",
   "id": "79798e1b",
   "metadata": {},
   "source": [
    "### Importar módulos y librerías"
   ]
  },
  {
   "cell_type": "code",
   "execution_count": 1,
   "id": "61310c49",
   "metadata": {},
   "outputs": [
    {
     "name": "stderr",
     "output_type": "stream",
     "text": [
      "c:\\Users\\Admin\\AppData\\Local\\Programs\\Python\\Python312\\Lib\\site-packages\\tqdm\\auto.py:21: TqdmWarning: IProgress not found. Please update jupyter and ipywidgets. See https://ipywidgets.readthedocs.io/en/stable/user_install.html\n",
      "  from .autonotebook import tqdm as notebook_tqdm\n"
     ]
    }
   ],
   "source": [
    "import ast\n",
    "import pandas as pd\n",
    "import seaborn as sns\n",
    "import matplotlib.pyplot as plt\n",
    "from datasets import load_dataset"
   ]
  },
  {
   "cell_type": "markdown",
   "id": "878d2ec1",
   "metadata": {},
   "source": [
    "### Cargar datos"
   ]
  },
  {
   "cell_type": "code",
   "execution_count": 2,
   "id": "5666a6da",
   "metadata": {},
   "outputs": [],
   "source": [
    "dataset = load_dataset('lukebarousse/data_jobs')\n",
    "df = dataset['train'].to_pandas()"
   ]
  },
  {
   "cell_type": "markdown",
   "id": "36b316dc",
   "metadata": {},
   "source": [
    "### Limpieza de datos"
   ]
  },
  {
   "cell_type": "code",
   "execution_count": 3,
   "id": "5ec518cc",
   "metadata": {},
   "outputs": [],
   "source": [
    "df['job_posted_date'] = pd.to_datetime(df['job_posted_date'])\n",
    "df['job_skills'] = df['job_skills'].apply(lambda x: ast.literal_eval(x) if pd.notna(x) else x)"
   ]
  },
  {
   "cell_type": "markdown",
   "id": "8f290cc1",
   "metadata": {},
   "source": [
    "### Salario según puesto de trabajo"
   ]
  },
  {
   "cell_type": "code",
   "execution_count": 4,
   "id": "93fe6b88",
   "metadata": {},
   "outputs": [],
   "source": [
    "# Creamos DataFrame para los salarios en Argentina y eliminamos filas con salarios nulos\n",
    "df_ARG = df[(df['job_country'] == 'Argentina')].dropna(subset=['salary_year_avg'])"
   ]
  },
  {
   "cell_type": "code",
   "execution_count": 5,
   "id": "ac8863a4",
   "metadata": {},
   "outputs": [
    {
     "data": {
      "text/plain": [
       "['Data Engineer',\n",
       " 'Data Scientist',\n",
       " 'Data Analyst',\n",
       " 'Machine Learning Engineer',\n",
       " 'Senior Data Engineer']"
      ]
     },
     "execution_count": 5,
     "metadata": {},
     "output_type": "execute_result"
    }
   ],
   "source": [
    "# Creamos DataFrame para guardarnos los nombres de los 5 puestos de trabajo más comunes\n",
    "job_titles = df_ARG['job_title_short'].value_counts().index[:5].tolist()\n",
    "job_titles"
   ]
  },
  {
   "cell_type": "code",
   "execution_count": null,
   "id": "40c6b941",
   "metadata": {},
   "outputs": [
    {
     "data": {
      "text/plain": [
       "['Data Engineer',\n",
       " 'Data Scientist',\n",
       " 'Data Analyst',\n",
       " 'Machine Learning Engineer',\n",
       " 'Senior Data Engineer']"
      ]
     },
     "execution_count": 10,
     "metadata": {},
     "output_type": "execute_result"
    }
   ],
   "source": [
    "# Filtramos el DataFrame para incluir solo los puestos de trabajo seleccionados\n",
    "df_ARG_top5 = df_ARG[df_ARG['job_title_short'].isin(job_titles)]\n",
    "\n",
    "df_ARG_top5"
   ]
  },
  {
   "cell_type": "code",
   "execution_count": 11,
   "id": "59e43f31",
   "metadata": {},
   "outputs": [
    {
     "data": {
      "text/plain": [
       "Index(['Senior Data Engineer', 'Machine Learning Engineer', 'Data Engineer',\n",
       "       'Data Analyst', 'Data Scientist'],\n",
       "      dtype='object', name='job_title_short')"
      ]
     },
     "execution_count": 11,
     "metadata": {},
     "output_type": "execute_result"
    }
   ],
   "source": [
    "# Los ordenamos en una columna por la mediana del salario\n",
    "job_order = df_ARG_top5.groupby('job_title_short')['salary_year_avg'].median().sort_values(ascending=False).index\n",
    "\n",
    "job_order"
   ]
  },
  {
   "cell_type": "markdown",
   "id": "1544c545",
   "metadata": {},
   "source": [
    "### Gráfico boxplot para distribuciones de salario"
   ]
  },
  {
   "cell_type": "markdown",
   "id": "68de3a45",
   "metadata": {},
   "source": [
    "Para graficar los salarios del top 5 de los puestos de trabajo"
   ]
  },
  {
   "cell_type": "code",
   "execution_count": 12,
   "id": "e5a95bb9",
   "metadata": {},
   "outputs": [
    {
     "data": {
      "image/png": "[encoded data removed]",
      "text/plain": [
       "<Figure size 640x480 with 1 Axes>"
      ]
     },
     "metadata": {},
     "output_type": "display_data"
    }
   ],
   "source": [
    "sns.boxplot(data=df_ARG_top5, x='salary_year_avg', y='job_title_short', order=job_order)\n",
    "sns.set_theme(style='ticks')\n",
    "sns.despine()\n",
    "\n",
    "plt.title('Distribuciones de salario para empleos en Argentina')\n",
    "plt.xlabel('Salario anual (USD)')\n",
    "plt.ylabel('')\n",
    "plt.xlim(0, 300000) \n",
    "ticks_x = plt.FuncFormatter(lambda y, pos: f'${int(y/1000)}K') # divide los valores por 1000 y añade 'K'\n",
    "plt.gca().xaxis.set_major_formatter(ticks_x) # gca: get current axis \n",
    "plt.show()"
   ]
  },
  {
   "cell_type": "markdown",
   "id": "226967e0",
   "metadata": {},
   "source": [
    "### Mediana del salario vs Skill para Data Analysts"
   ]
  },
  {
   "cell_type": "code",
   "execution_count": null,
   "id": "27644438",
   "metadata": {},
   "outputs": [],
   "source": [
    "# Filtramos el dataset original y creamos el DataFrame para puestos de Data Analyst en Argentina\n",
    "df_DA_ARG = df[(df['job_title_short'] == 'Data Analyst') & (df['job_country'] == 'Argentina')].copy()"
   ]
  },
  {
   "cell_type": "code",
   "execution_count": 25,
   "id": "b1e1f988",
   "metadata": {},
   "outputs": [
    {
     "data": {
      "text/html": [
       "<div>\n",
       "<style scoped>\n",
       "    .dataframe tbody tr th:only-of-type {\n",
       "        vertical-align: middle;\n",
       "    }\n",
       "\n",
       "    .dataframe tbody tr th {\n",
       "        vertical-align: top;\n",
       "    }\n",
       "\n",
       "    .dataframe thead th {\n",
       "        text-align: right;\n",
       "    }\n",
       "</style>\n",
       "<table border=\"1\" class=\"dataframe\">\n",
       "  <thead>\n",
       "    <tr style=\"text-align: right;\">\n",
       "      <th></th>\n",
       "      <th>salary_year_avg</th>\n",
       "      <th>job_skills</th>\n",
       "    </tr>\n",
       "  </thead>\n",
       "  <tbody>\n",
       "    <tr>\n",
       "      <th>93501</th>\n",
       "      <td>111202.0</td>\n",
       "      <td>sql</td>\n",
       "    </tr>\n",
       "    <tr>\n",
       "      <th>93501</th>\n",
       "      <td>111202.0</td>\n",
       "      <td>python</td>\n",
       "    </tr>\n",
       "    <tr>\n",
       "      <th>93501</th>\n",
       "      <td>111202.0</td>\n",
       "      <td>flow</td>\n",
       "    </tr>\n",
       "    <tr>\n",
       "      <th>345103</th>\n",
       "      <td>45000.0</td>\n",
       "      <td>sql</td>\n",
       "    </tr>\n",
       "    <tr>\n",
       "      <th>345103</th>\n",
       "      <td>45000.0</td>\n",
       "      <td>python</td>\n",
       "    </tr>\n",
       "  </tbody>\n",
       "</table>\n",
       "</div>"
      ],
      "text/plain": [
       "        salary_year_avg job_skills\n",
       "93501          111202.0        sql\n",
       "93501          111202.0     python\n",
       "93501          111202.0       flow\n",
       "345103          45000.0        sql\n",
       "345103          45000.0     python"
      ]
     },
     "execution_count": 25,
     "metadata": {},
     "output_type": "execute_result"
    }
   ],
   "source": [
    "# Eliminamos valores faltantes con dropna de salary_year_avg y actualizamos esa columna del DataFrame\n",
    "df_DA_ARG = df_DA_ARG.dropna(subset=['salary_year_avg'])\n",
    "\n",
    "df_DA_ARG = df_DA_ARG.explode('job_skills')\n",
    "\n",
    "df_DA_ARG[['salary_year_avg', 'job_skills']].head(5)"
   ]
  },
  {
   "cell_type": "markdown",
   "id": "935c94bf",
   "metadata": {},
   "source": [
    "### Determinar las skills mejor pagas y las skills más demandadas"
   ]
  },
  {
   "cell_type": "markdown",
   "id": "de514aa0",
   "metadata": {},
   "source": [
    "Obtenemos los top diez mejores skills pagas para Data Analysts a través de calcular la mediana del salario para cada skill"
   ]
  },
  {
   "cell_type": "code",
   "execution_count": 26,
   "id": "f9e44b80",
   "metadata": {},
   "outputs": [
    {
     "data": {
      "text/html": [
       "<div>\n",
       "<style scoped>\n",
       "    .dataframe tbody tr th:only-of-type {\n",
       "        vertical-align: middle;\n",
       "    }\n",
       "\n",
       "    .dataframe tbody tr th {\n",
       "        vertical-align: top;\n",
       "    }\n",
       "\n",
       "    .dataframe thead th {\n",
       "        text-align: right;\n",
       "    }\n",
       "</style>\n",
       "<table border=\"1\" class=\"dataframe\">\n",
       "  <thead>\n",
       "    <tr style=\"text-align: right;\">\n",
       "      <th></th>\n",
       "      <th>count</th>\n",
       "      <th>median</th>\n",
       "    </tr>\n",
       "    <tr>\n",
       "      <th>job_skills</th>\n",
       "      <th></th>\n",
       "      <th></th>\n",
       "    </tr>\n",
       "  </thead>\n",
       "  <tbody>\n",
       "    <tr>\n",
       "      <th>flow</th>\n",
       "      <td>1</td>\n",
       "      <td>111202.0</td>\n",
       "    </tr>\n",
       "    <tr>\n",
       "      <th>python</th>\n",
       "      <td>3</td>\n",
       "      <td>111175.0</td>\n",
       "    </tr>\n",
       "    <tr>\n",
       "      <th>sql</th>\n",
       "      <td>3</td>\n",
       "      <td>111175.0</td>\n",
       "    </tr>\n",
       "    <tr>\n",
       "      <th>excel</th>\n",
       "      <td>1</td>\n",
       "      <td>45000.0</td>\n",
       "    </tr>\n",
       "    <tr>\n",
       "      <th>power bi</th>\n",
       "      <td>1</td>\n",
       "      <td>45000.0</td>\n",
       "    </tr>\n",
       "    <tr>\n",
       "      <th>javascript</th>\n",
       "      <td>1</td>\n",
       "      <td>45000.0</td>\n",
       "    </tr>\n",
       "    <tr>\n",
       "      <th>sql server</th>\n",
       "      <td>1</td>\n",
       "      <td>45000.0</td>\n",
       "    </tr>\n",
       "    <tr>\n",
       "      <th>tableau</th>\n",
       "      <td>1</td>\n",
       "      <td>45000.0</td>\n",
       "    </tr>\n",
       "  </tbody>\n",
       "</table>\n",
       "</div>"
      ],
      "text/plain": [
       "            count    median\n",
       "job_skills                 \n",
       "flow            1  111202.0\n",
       "python          3  111175.0\n",
       "sql             3  111175.0\n",
       "excel           1   45000.0\n",
       "power bi        1   45000.0\n",
       "javascript      1   45000.0\n",
       "sql server      1   45000.0\n",
       "tableau         1   45000.0"
      ]
     },
     "execution_count": 26,
     "metadata": {},
     "output_type": "execute_result"
    }
   ],
   "source": [
    "# Agrupamos los datos según skills, calculamos la mediana del salario y ordenamos los valores en orden descendente según la mediana\n",
    "df_ARG_top_pay = df_DA_ARG.groupby('job_skills')['salary_year_avg'].agg(['count', 'median']).sort_values(by='median', ascending=False)\n",
    "\n",
    "df_ARG_top_pay = df_ARG_top_pay.head(10)\n",
    "\n",
    "df_ARG_top_pay"
   ]
  },
  {
   "cell_type": "code",
   "execution_count": 27,
   "id": "3f7378f0",
   "metadata": {},
   "outputs": [
    {
     "data": {
      "text/html": [
       "<div>\n",
       "<style scoped>\n",
       "    .dataframe tbody tr th:only-of-type {\n",
       "        vertical-align: middle;\n",
       "    }\n",
       "\n",
       "    .dataframe tbody tr th {\n",
       "        vertical-align: top;\n",
       "    }\n",
       "\n",
       "    .dataframe thead th {\n",
       "        text-align: right;\n",
       "    }\n",
       "</style>\n",
       "<table border=\"1\" class=\"dataframe\">\n",
       "  <thead>\n",
       "    <tr style=\"text-align: right;\">\n",
       "      <th></th>\n",
       "      <th>count</th>\n",
       "      <th>median</th>\n",
       "    </tr>\n",
       "    <tr>\n",
       "      <th>job_skills</th>\n",
       "      <th></th>\n",
       "      <th></th>\n",
       "    </tr>\n",
       "  </thead>\n",
       "  <tbody>\n",
       "    <tr>\n",
       "      <th>flow</th>\n",
       "      <td>1</td>\n",
       "      <td>111202.0</td>\n",
       "    </tr>\n",
       "    <tr>\n",
       "      <th>sql</th>\n",
       "      <td>3</td>\n",
       "      <td>111175.0</td>\n",
       "    </tr>\n",
       "    <tr>\n",
       "      <th>python</th>\n",
       "      <td>3</td>\n",
       "      <td>111175.0</td>\n",
       "    </tr>\n",
       "    <tr>\n",
       "      <th>excel</th>\n",
       "      <td>1</td>\n",
       "      <td>45000.0</td>\n",
       "    </tr>\n",
       "    <tr>\n",
       "      <th>power bi</th>\n",
       "      <td>1</td>\n",
       "      <td>45000.0</td>\n",
       "    </tr>\n",
       "    <tr>\n",
       "      <th>javascript</th>\n",
       "      <td>1</td>\n",
       "      <td>45000.0</td>\n",
       "    </tr>\n",
       "    <tr>\n",
       "      <th>sql server</th>\n",
       "      <td>1</td>\n",
       "      <td>45000.0</td>\n",
       "    </tr>\n",
       "    <tr>\n",
       "      <th>tableau</th>\n",
       "      <td>1</td>\n",
       "      <td>45000.0</td>\n",
       "    </tr>\n",
       "  </tbody>\n",
       "</table>\n",
       "</div>"
      ],
      "text/plain": [
       "            count    median\n",
       "job_skills                 \n",
       "flow            1  111202.0\n",
       "sql             3  111175.0\n",
       "python          3  111175.0\n",
       "excel           1   45000.0\n",
       "power bi        1   45000.0\n",
       "javascript      1   45000.0\n",
       "sql server      1   45000.0\n",
       "tableau         1   45000.0"
      ]
     },
     "execution_count": 27,
     "metadata": {},
     "output_type": "execute_result"
    }
   ],
   "source": [
    "# Idem código anterior, pero ordenamos los valores en orden descendente según la cantidad de skills\n",
    "df_DA_skills = df_DA_ARG.groupby('job_skills')['salary_year_avg'].agg(['count', 'median']).sort_values(by='count', ascending=False)\n",
    "\n",
    "# Se seleccionan las 10 skills más comunes y se ordenan por la mediana del salario\n",
    "df_DA_skills = df_DA_skills.head(10).sort_values(by='median', ascending=False)\n",
    "\n",
    "df_DA_skills"
   ]
  },
  {
   "cell_type": "markdown",
   "id": "2974ba32",
   "metadata": {},
   "source": [
    "### Gráficos de barras: skills mejor pagas y skills más demandadas"
   ]
  },
  {
   "cell_type": "code",
   "execution_count": 28,
   "id": "49557a62",
   "metadata": {},
   "outputs": [
    {
     "data": {
      "image/png": "[encoded data removed]",
      "text/plain": [
       "<Figure size 640x480 with 2 Axes>"
      ]
     },
     "metadata": {},
     "output_type": "display_data"
    }
   ],
   "source": [
    "fig, ax = plt.subplots(2, 1)  \n",
    "\n",
    "# Top 10 skills mejor pagas para Data Analysts\n",
    "sns.barplot(data=df_ARG_top_pay, x='median', y=df_ARG_top_pay.index, hue='median', ax=ax[0], palette='light:seagreen')\n",
    "ax[0].legend().remove()\n",
    "ax[0].set_title('Skills mejor pagas para Data Analysts en Argentina')\n",
    "ax[0].set_ylabel('')\n",
    "ax[0].set_xlabel('')\n",
    "ax[0].xaxis.set_major_formatter(plt.FuncFormatter(lambda x, _: f'${int(x/1000)}K'))\n",
    "\n",
    "# Top 10 skills más demandadas para Data Analysts')\n",
    "sns.barplot(data=df_DA_skills, x='median', y=df_DA_skills.index, hue='median', ax=ax[1], palette='light:seagreen')\n",
    "ax[1].legend().remove()\n",
    "ax[1].set_title('Skills más demandadas para Data Analysts en Argentina')\n",
    "ax[1].set_ylabel('')\n",
    "ax[1].set_xlabel('Mediana del salario (USD)')\n",
    "ax[1].set_xlim(ax[0].get_xlim())  # Set the same x-axis limits as the first plot\n",
    "ax[1].xaxis.set_major_formatter(plt.FuncFormatter(lambda x, _: f'${int(x/1000)}K'))\n",
    "\n",
    "sns.set_theme(style='ticks')\n",
    "plt.tight_layout()\n",
    "plt.show()"
   ]
  }
 ],
 "metadata": {
  "kernelspec": {
   "display_name": "Python 3",
   "language": "python",
   "name": "python3"
  },
  "language_info": {
   "codemirror_mode": {
    "name": "ipython",
    "version": 3
   },
   "file_extension": ".py",
   "mimetype": "text/x-python",
   "name": "python",
   "nbconvert_exporter": "python",
   "pygments_lexer": "ipython3",
   "version": "3.12.10"
  }
 },
 "nbformat": 4,
 "nbformat_minor": 5
}
