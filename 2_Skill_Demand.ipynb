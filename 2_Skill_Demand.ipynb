{
 "cells": [
  {
   "cell_type": "markdown",
   "id": "bb2c4f66",
   "metadata": {},
   "source": [
    "# 2. Skill Demand"
   ]
  },
  {
   "cell_type": "markdown",
   "id": "81ecb647",
   "metadata": {},
   "source": [
    "### Importar módulos y librerías"
   ]
  },
  {
   "cell_type": "code",
   "execution_count": 1,
   "id": "32ef2d22",
   "metadata": {},
   "outputs": [
    {
     "name": "stderr",
     "output_type": "stream",
     "text": [
      "c:\\Users\\Admin\\AppData\\Local\\Programs\\Python\\Python312\\Lib\\site-packages\\tqdm\\auto.py:21: TqdmWarning: IProgress not found. Please update jupyter and ipywidgets. See https://ipywidgets.readthedocs.io/en/stable/user_install.html\n",
      "  from .autonotebook import tqdm as notebook_tqdm\n"
     ]
    }
   ],
   "source": [
    "import ast \n",
    "import pandas as pd\n",
    "import seaborn as sns\n",
    "import matplotlib.pyplot as plt\n",
    "from datasets import load_dataset"
   ]
  },
  {
   "cell_type": "markdown",
   "id": "29c3bb00",
   "metadata": {},
   "source": [
    "### Cargar datos"
   ]
  },
  {
   "cell_type": "code",
   "execution_count": 2,
   "id": "4cef288f",
   "metadata": {},
   "outputs": [],
   "source": [
    "dataset = load_dataset('lukebarousse/data_jobs')\n",
    "df = dataset['train'].to_pandas()"
   ]
  },
  {
   "cell_type": "markdown",
   "id": "42d921fe",
   "metadata": {},
   "source": [
    "### Limpieza de datos"
   ]
  },
  {
   "cell_type": "code",
   "execution_count": 3,
   "id": "fdd02339",
   "metadata": {},
   "outputs": [],
   "source": [
    "df['job_posted_date'] = pd.to_datetime(df['job_posted_date'])\n",
    "df['job_skills'] = df['job_skills'].apply(lambda x: ast.literal_eval(x) if pd.notna(x) else x)"
   ]
  },
  {
   "cell_type": "markdown",
   "id": "76009ec7",
   "metadata": {},
   "source": [
    "### Filtrar para puestos en Argentina"
   ]
  },
  {
   "cell_type": "code",
   "execution_count": 4,
   "id": "8420f1de",
   "metadata": {},
   "outputs": [],
   "source": [
    "df_ARG = df[df['job_country'] == 'Argentina']"
   ]
  },
  {
   "cell_type": "markdown",
   "id": "64923e91",
   "metadata": {},
   "source": [
    "### .explode"
   ]
  },
  {
   "cell_type": "markdown",
   "id": "e1d98c40",
   "metadata": {},
   "source": [
    "The .explode() method is designed to expand entries in a list-like column across multiple rows, making each element in the list a separate row."
   ]
  },
  {
   "cell_type": "code",
   "execution_count": 5,
   "id": "444506b7",
   "metadata": {},
   "outputs": [
    {
     "data": {
      "text/html": [
       "<div>\n",
       "<style scoped>\n",
       "    .dataframe tbody tr th:only-of-type {\n",
       "        vertical-align: middle;\n",
       "    }\n",
       "\n",
       "    .dataframe tbody tr th {\n",
       "        vertical-align: top;\n",
       "    }\n",
       "\n",
       "    .dataframe thead th {\n",
       "        text-align: right;\n",
       "    }\n",
       "</style>\n",
       "<table border=\"1\" class=\"dataframe\">\n",
       "  <thead>\n",
       "    <tr style=\"text-align: right;\">\n",
       "      <th></th>\n",
       "      <th>job_title</th>\n",
       "      <th>job_skills</th>\n",
       "    </tr>\n",
       "  </thead>\n",
       "  <tbody>\n",
       "    <tr>\n",
       "      <th>236</th>\n",
       "      <td>Científico de Datos LLM</td>\n",
       "      <td>None</td>\n",
       "    </tr>\n",
       "    <tr>\n",
       "      <th>417</th>\n",
       "      <td>Data Science SR Puerto Madero</td>\n",
       "      <td>java</td>\n",
       "    </tr>\n",
       "    <tr>\n",
       "      <th>417</th>\n",
       "      <td>Data Science SR Puerto Madero</td>\n",
       "      <td>scala</td>\n",
       "    </tr>\n",
       "    <tr>\n",
       "      <th>863</th>\n",
       "      <td>Data Engineer Jr</td>\n",
       "      <td>python</td>\n",
       "    </tr>\n",
       "    <tr>\n",
       "      <th>863</th>\n",
       "      <td>Data Engineer Jr</td>\n",
       "      <td>azure</td>\n",
       "    </tr>\n",
       "    <tr>\n",
       "      <th>...</th>\n",
       "      <td>...</td>\n",
       "      <td>...</td>\n",
       "    </tr>\n",
       "    <tr>\n",
       "      <th>785668</th>\n",
       "      <td>Jr Data Analyst</td>\n",
       "      <td>excel</td>\n",
       "    </tr>\n",
       "    <tr>\n",
       "      <th>785668</th>\n",
       "      <td>Jr Data Analyst</td>\n",
       "      <td>tableau</td>\n",
       "    </tr>\n",
       "    <tr>\n",
       "      <th>785668</th>\n",
       "      <td>Jr Data Analyst</td>\n",
       "      <td>power bi</td>\n",
       "    </tr>\n",
       "    <tr>\n",
       "      <th>785668</th>\n",
       "      <td>Jr Data Analyst</td>\n",
       "      <td>spss</td>\n",
       "    </tr>\n",
       "    <tr>\n",
       "      <th>785672</th>\n",
       "      <td>Customer Engineer, Apigee, Google Cloud</td>\n",
       "      <td>None</td>\n",
       "    </tr>\n",
       "  </tbody>\n",
       "</table>\n",
       "<p>42370 rows × 2 columns</p>\n",
       "</div>"
      ],
      "text/plain": [
       "                                      job_title job_skills\n",
       "236                     Científico de Datos LLM       None\n",
       "417               Data Science SR Puerto Madero       java\n",
       "417               Data Science SR Puerto Madero      scala\n",
       "863                            Data Engineer Jr     python\n",
       "863                            Data Engineer Jr      azure\n",
       "...                                         ...        ...\n",
       "785668                          Jr Data Analyst      excel\n",
       "785668                          Jr Data Analyst    tableau\n",
       "785668                          Jr Data Analyst   power bi\n",
       "785668                          Jr Data Analyst       spss\n",
       "785672  Customer Engineer, Apigee, Google Cloud       None\n",
       "\n",
       "[42370 rows x 2 columns]"
      ]
     },
     "execution_count": 5,
     "metadata": {},
     "output_type": "execute_result"
    }
   ],
   "source": [
    "df_skills = df_ARG.explode('job_skills')\n",
    "\n",
    "df_skills[['job_title', 'job_skills']]"
   ]
  },
  {
   "cell_type": "markdown",
   "id": "b8db7a9c",
   "metadata": {},
   "source": [
    "### Contar skills por puesto de trabajo"
   ]
  },
  {
   "cell_type": "markdown",
   "id": "a74d3722",
   "metadata": {},
   "source": [
    "Groups DataFrame by job_skills and job_title_short, counting the occurrences of each skill within each job title\n",
    "\n",
    "Then resets the index of the Series to turn it back into a DataFrame and renames the series holding the count to 'count'. \n",
    "\n",
    "The final DataFrame, df_skills_count, shows the frequency of each skill with each job title."
   ]
  },
  {
   "cell_type": "code",
   "execution_count": 6,
   "id": "bedf4584",
   "metadata": {},
   "outputs": [
    {
     "data": {
      "text/html": [
       "<div>\n",
       "<style scoped>\n",
       "    .dataframe tbody tr th:only-of-type {\n",
       "        vertical-align: middle;\n",
       "    }\n",
       "\n",
       "    .dataframe tbody tr th {\n",
       "        vertical-align: top;\n",
       "    }\n",
       "\n",
       "    .dataframe thead th {\n",
       "        text-align: right;\n",
       "    }\n",
       "</style>\n",
       "<table border=\"1\" class=\"dataframe\">\n",
       "  <thead>\n",
       "    <tr style=\"text-align: right;\">\n",
       "      <th></th>\n",
       "      <th>job_skills</th>\n",
       "      <th>job_title_short</th>\n",
       "      <th>skill_count</th>\n",
       "    </tr>\n",
       "  </thead>\n",
       "  <tbody>\n",
       "    <tr>\n",
       "      <th>1054</th>\n",
       "      <td>sql</td>\n",
       "      <td>Data Engineer</td>\n",
       "      <td>1424</td>\n",
       "    </tr>\n",
       "    <tr>\n",
       "      <th>822</th>\n",
       "      <td>python</td>\n",
       "      <td>Data Engineer</td>\n",
       "      <td>1401</td>\n",
       "    </tr>\n",
       "    <tr>\n",
       "      <th>823</th>\n",
       "      <td>python</td>\n",
       "      <td>Data Scientist</td>\n",
       "      <td>1048</td>\n",
       "    </tr>\n",
       "    <tr>\n",
       "      <th>1055</th>\n",
       "      <td>sql</td>\n",
       "      <td>Data Scientist</td>\n",
       "      <td>930</td>\n",
       "    </tr>\n",
       "    <tr>\n",
       "      <th>71</th>\n",
       "      <td>aws</td>\n",
       "      <td>Data Engineer</td>\n",
       "      <td>803</td>\n",
       "    </tr>\n",
       "    <tr>\n",
       "      <th>...</th>\n",
       "      <td>...</td>\n",
       "      <td>...</td>\n",
       "      <td>...</td>\n",
       "    </tr>\n",
       "    <tr>\n",
       "      <th>11</th>\n",
       "      <td>airtable</td>\n",
       "      <td>Machine Learning Engineer</td>\n",
       "      <td>1</td>\n",
       "    </tr>\n",
       "    <tr>\n",
       "      <th>1245</th>\n",
       "      <td>word</td>\n",
       "      <td>Cloud Engineer</td>\n",
       "      <td>1</td>\n",
       "    </tr>\n",
       "    <tr>\n",
       "      <th>10</th>\n",
       "      <td>airtable</td>\n",
       "      <td>Data Analyst</td>\n",
       "      <td>1</td>\n",
       "    </tr>\n",
       "    <tr>\n",
       "      <th>1264</th>\n",
       "      <td>zoom</td>\n",
       "      <td>Senior Data Engineer</td>\n",
       "      <td>1</td>\n",
       "    </tr>\n",
       "    <tr>\n",
       "      <th>13</th>\n",
       "      <td>alteryx</td>\n",
       "      <td>Cloud Engineer</td>\n",
       "      <td>1</td>\n",
       "    </tr>\n",
       "  </tbody>\n",
       "</table>\n",
       "<p>1266 rows × 3 columns</p>\n",
       "</div>"
      ],
      "text/plain": [
       "     job_skills            job_title_short  skill_count\n",
       "1054        sql              Data Engineer         1424\n",
       "822      python              Data Engineer         1401\n",
       "823      python             Data Scientist         1048\n",
       "1055        sql             Data Scientist          930\n",
       "71          aws              Data Engineer          803\n",
       "...         ...                        ...          ...\n",
       "11     airtable  Machine Learning Engineer            1\n",
       "1245       word             Cloud Engineer            1\n",
       "10     airtable               Data Analyst            1\n",
       "1264       zoom       Senior Data Engineer            1\n",
       "13      alteryx             Cloud Engineer            1\n",
       "\n",
       "[1266 rows x 3 columns]"
      ]
     },
     "execution_count": 6,
     "metadata": {},
     "output_type": "execute_result"
    }
   ],
   "source": [
    "# Group by job_skills and job_title_short and count the number of occurrences\n",
    "df_skills_count = df_skills.groupby(['job_skills', 'job_title_short']).size()\n",
    "\n",
    "# Name the count column as count\n",
    "df_skills_count = df_skills_count.reset_index(name='skill_count')\n",
    "\n",
    "# Sort the values by skill_count in descending order\n",
    "df_skills_count.sort_values(by='skill_count', ascending=False, inplace=True)\n",
    "\n",
    "df_skills_count"
   ]
  },
  {
   "cell_type": "markdown",
   "id": "a6f67a53",
   "metadata": {},
   "source": [
    "### Crear lista de top 3 puestos de trabajo"
   ]
  },
  {
   "cell_type": "code",
   "execution_count": 17,
   "id": "804dccab",
   "metadata": {},
   "outputs": [
    {
     "data": {
      "text/plain": [
       "['Data Analyst', 'Data Engineer', 'Data Scientist']"
      ]
     },
     "execution_count": 17,
     "metadata": {},
     "output_type": "execute_result"
    }
   ],
   "source": [
    "job_titles = df_skills_count['job_title_short'].unique().tolist()\n",
    "\n",
    "job_titles = sorted(job_titles[:3])\n",
    "\n",
    "job_titles"
   ]
  },
  {
   "cell_type": "markdown",
   "id": "7495856c",
   "metadata": {},
   "source": [
    "### Barplot para visualizar las skills según cantidad de apariciones"
   ]
  },
  {
   "cell_type": "markdown",
   "id": "bf38ecba",
   "metadata": {},
   "source": [
    "Para las top 5 skills para los top 3 puestos de trabajo (que obtuvimos anteriormente)"
   ]
  },
  {
   "cell_type": "code",
   "execution_count": 11,
   "id": "023d0dc0",
   "metadata": {},
   "outputs": [
    {
     "data": {
      "image/png": "[encoded data removed]",
      "text/plain": [
       "<Figure size 640x480 with 3 Axes>"
      ]
     },
     "metadata": {},
     "output_type": "display_data"
    }
   ],
   "source": [
    "fig, ax = plt.subplots(len(job_titles), 1)\n",
    "\n",
    "sns.set_theme(style='ticks')\n",
    "\n",
    "for i, job_title in enumerate(job_titles):\n",
    "    df_plot = df_skills_count[df_skills_count['job_title_short'] == job_title].head(5)[::-1]\n",
    "    sns.barplot(data=df_plot, x='skill_count', y='job_skills', ax=ax[i], hue='skill_count', palette='light:seagreen')\n",
    "    ax[i].set_title(job_title)\n",
    "    ax[i].invert_yaxis()\n",
    "    ax[i].set_ylabel('')\n",
    "    ax[i].set_xlabel('')\n",
    "    ax[i].get_legend().remove()\n",
    "    ax[i].set_xlim(0, 2000) # make the scales the same\n",
    "\n",
    "fig.suptitle('Cantidad de skills requeridas para puestos en Argentina', fontsize=15)\n",
    "fig.tight_layout(h_pad=0.5) # fix the overlap\n",
    "plt.show()"
   ]
  },
  {
   "cell_type": "markdown",
   "id": "e399350e",
   "metadata": {},
   "source": [
    "### Convertir las cantidades a porcentajes"
   ]
  },
  {
   "cell_type": "code",
   "execution_count": 12,
   "id": "8f3d6303",
   "metadata": {},
   "outputs": [
    {
     "data": {
      "text/html": [
       "<div>\n",
       "<style scoped>\n",
       "    .dataframe tbody tr th:only-of-type {\n",
       "        vertical-align: middle;\n",
       "    }\n",
       "\n",
       "    .dataframe tbody tr th {\n",
       "        vertical-align: top;\n",
       "    }\n",
       "\n",
       "    .dataframe thead th {\n",
       "        text-align: right;\n",
       "    }\n",
       "</style>\n",
       "<table border=\"1\" class=\"dataframe\">\n",
       "  <thead>\n",
       "    <tr style=\"text-align: right;\">\n",
       "      <th></th>\n",
       "      <th>job_title_short</th>\n",
       "      <th>jobs_total</th>\n",
       "    </tr>\n",
       "  </thead>\n",
       "  <tbody>\n",
       "    <tr>\n",
       "      <th>0</th>\n",
       "      <td>Data Engineer</td>\n",
       "      <td>2265</td>\n",
       "    </tr>\n",
       "    <tr>\n",
       "      <th>1</th>\n",
       "      <td>Data Scientist</td>\n",
       "      <td>1617</td>\n",
       "    </tr>\n",
       "    <tr>\n",
       "      <th>2</th>\n",
       "      <td>Data Analyst</td>\n",
       "      <td>1273</td>\n",
       "    </tr>\n",
       "    <tr>\n",
       "      <th>3</th>\n",
       "      <td>Software Engineer</td>\n",
       "      <td>1267</td>\n",
       "    </tr>\n",
       "    <tr>\n",
       "      <th>4</th>\n",
       "      <td>Senior Data Engineer</td>\n",
       "      <td>647</td>\n",
       "    </tr>\n",
       "    <tr>\n",
       "      <th>5</th>\n",
       "      <td>Business Analyst</td>\n",
       "      <td>453</td>\n",
       "    </tr>\n",
       "    <tr>\n",
       "      <th>6</th>\n",
       "      <td>Senior Data Scientist</td>\n",
       "      <td>350</td>\n",
       "    </tr>\n",
       "    <tr>\n",
       "      <th>7</th>\n",
       "      <td>Cloud Engineer</td>\n",
       "      <td>322</td>\n",
       "    </tr>\n",
       "    <tr>\n",
       "      <th>8</th>\n",
       "      <td>Machine Learning Engineer</td>\n",
       "      <td>287</td>\n",
       "    </tr>\n",
       "    <tr>\n",
       "      <th>9</th>\n",
       "      <td>Senior Data Analyst</td>\n",
       "      <td>255</td>\n",
       "    </tr>\n",
       "  </tbody>\n",
       "</table>\n",
       "</div>"
      ],
      "text/plain": [
       "             job_title_short  jobs_total\n",
       "0              Data Engineer        2265\n",
       "1             Data Scientist        1617\n",
       "2               Data Analyst        1273\n",
       "3          Software Engineer        1267\n",
       "4       Senior Data Engineer         647\n",
       "5           Business Analyst         453\n",
       "6      Senior Data Scientist         350\n",
       "7             Cloud Engineer         322\n",
       "8  Machine Learning Engineer         287\n",
       "9        Senior Data Analyst         255"
      ]
     },
     "execution_count": 12,
     "metadata": {},
     "output_type": "execute_result"
    }
   ],
   "source": [
    "df_job_title_count = df_ARG['job_title_short'].value_counts().reset_index(name='jobs_total')\n",
    "\n",
    "df_job_title_count"
   ]
  },
  {
   "cell_type": "code",
   "execution_count": 13,
   "id": "59981a78",
   "metadata": {},
   "outputs": [
    {
     "data": {
      "text/html": [
       "<div>\n",
       "<style scoped>\n",
       "    .dataframe tbody tr th:only-of-type {\n",
       "        vertical-align: middle;\n",
       "    }\n",
       "\n",
       "    .dataframe tbody tr th {\n",
       "        vertical-align: top;\n",
       "    }\n",
       "\n",
       "    .dataframe thead th {\n",
       "        text-align: right;\n",
       "    }\n",
       "</style>\n",
       "<table border=\"1\" class=\"dataframe\">\n",
       "  <thead>\n",
       "    <tr style=\"text-align: right;\">\n",
       "      <th></th>\n",
       "      <th>job_skills</th>\n",
       "      <th>job_title_short</th>\n",
       "      <th>skill_count</th>\n",
       "      <th>jobs_total</th>\n",
       "      <th>skill_percent</th>\n",
       "    </tr>\n",
       "  </thead>\n",
       "  <tbody>\n",
       "    <tr>\n",
       "      <th>0</th>\n",
       "      <td>sql</td>\n",
       "      <td>Data Engineer</td>\n",
       "      <td>1424</td>\n",
       "      <td>2265</td>\n",
       "      <td>62.869757</td>\n",
       "    </tr>\n",
       "    <tr>\n",
       "      <th>1</th>\n",
       "      <td>python</td>\n",
       "      <td>Data Engineer</td>\n",
       "      <td>1401</td>\n",
       "      <td>2265</td>\n",
       "      <td>61.854305</td>\n",
       "    </tr>\n",
       "    <tr>\n",
       "      <th>2</th>\n",
       "      <td>python</td>\n",
       "      <td>Data Scientist</td>\n",
       "      <td>1048</td>\n",
       "      <td>1617</td>\n",
       "      <td>64.811379</td>\n",
       "    </tr>\n",
       "    <tr>\n",
       "      <th>3</th>\n",
       "      <td>sql</td>\n",
       "      <td>Data Scientist</td>\n",
       "      <td>930</td>\n",
       "      <td>1617</td>\n",
       "      <td>57.513915</td>\n",
       "    </tr>\n",
       "    <tr>\n",
       "      <th>4</th>\n",
       "      <td>aws</td>\n",
       "      <td>Data Engineer</td>\n",
       "      <td>803</td>\n",
       "      <td>2265</td>\n",
       "      <td>35.452539</td>\n",
       "    </tr>\n",
       "    <tr>\n",
       "      <th>...</th>\n",
       "      <td>...</td>\n",
       "      <td>...</td>\n",
       "      <td>...</td>\n",
       "      <td>...</td>\n",
       "      <td>...</td>\n",
       "    </tr>\n",
       "    <tr>\n",
       "      <th>1261</th>\n",
       "      <td>airtable</td>\n",
       "      <td>Machine Learning Engineer</td>\n",
       "      <td>1</td>\n",
       "      <td>287</td>\n",
       "      <td>0.348432</td>\n",
       "    </tr>\n",
       "    <tr>\n",
       "      <th>1262</th>\n",
       "      <td>word</td>\n",
       "      <td>Cloud Engineer</td>\n",
       "      <td>1</td>\n",
       "      <td>322</td>\n",
       "      <td>0.310559</td>\n",
       "    </tr>\n",
       "    <tr>\n",
       "      <th>1263</th>\n",
       "      <td>airtable</td>\n",
       "      <td>Data Analyst</td>\n",
       "      <td>1</td>\n",
       "      <td>1273</td>\n",
       "      <td>0.078555</td>\n",
       "    </tr>\n",
       "    <tr>\n",
       "      <th>1264</th>\n",
       "      <td>zoom</td>\n",
       "      <td>Senior Data Engineer</td>\n",
       "      <td>1</td>\n",
       "      <td>647</td>\n",
       "      <td>0.154560</td>\n",
       "    </tr>\n",
       "    <tr>\n",
       "      <th>1265</th>\n",
       "      <td>alteryx</td>\n",
       "      <td>Cloud Engineer</td>\n",
       "      <td>1</td>\n",
       "      <td>322</td>\n",
       "      <td>0.310559</td>\n",
       "    </tr>\n",
       "  </tbody>\n",
       "</table>\n",
       "<p>1266 rows × 5 columns</p>\n",
       "</div>"
      ],
      "text/plain": [
       "     job_skills            job_title_short  skill_count  jobs_total  \\\n",
       "0           sql              Data Engineer         1424        2265   \n",
       "1        python              Data Engineer         1401        2265   \n",
       "2        python             Data Scientist         1048        1617   \n",
       "3           sql             Data Scientist          930        1617   \n",
       "4           aws              Data Engineer          803        2265   \n",
       "...         ...                        ...          ...         ...   \n",
       "1261   airtable  Machine Learning Engineer            1         287   \n",
       "1262       word             Cloud Engineer            1         322   \n",
       "1263   airtable               Data Analyst            1        1273   \n",
       "1264       zoom       Senior Data Engineer            1         647   \n",
       "1265    alteryx             Cloud Engineer            1         322   \n",
       "\n",
       "      skill_percent  \n",
       "0         62.869757  \n",
       "1         61.854305  \n",
       "2         64.811379  \n",
       "3         57.513915  \n",
       "4         35.452539  \n",
       "...             ...  \n",
       "1261       0.348432  \n",
       "1262       0.310559  \n",
       "1263       0.078555  \n",
       "1264       0.154560  \n",
       "1265       0.310559  \n",
       "\n",
       "[1266 rows x 5 columns]"
      ]
     },
     "execution_count": 13,
     "metadata": {},
     "output_type": "execute_result"
    }
   ],
   "source": [
    "df_skills_perc = pd.merge(df_skills_count, df_job_title_count, on='job_title_short', how='left')\n",
    "\n",
    "df_skills_perc['skill_percent'] = (df_skills_perc['skill_count'] / df_skills_perc['jobs_total']) * 100\n",
    "\n",
    "df_skills_perc"
   ]
  },
  {
   "cell_type": "markdown",
   "id": "72b4d66a",
   "metadata": {},
   "source": [
    "### Graficar nuevamente pero con los porcentajes"
   ]
  },
  {
   "cell_type": "code",
   "execution_count": 16,
   "id": "1803fdf8",
   "metadata": {},
   "outputs": [
    {
     "data": {
      "image/png": "[encoded data removed]",
      "text/plain": [
       "<Figure size 640x480 with 3 Axes>"
      ]
     },
     "metadata": {},
     "output_type": "display_data"
    }
   ],
   "source": [
    "fig, ax = plt.subplots(len(job_titles), 1)\n",
    "\n",
    "\n",
    "for i, job_title in enumerate(job_titles):\n",
    "    df_plot = df_skills_perc[df_skills_perc['job_title_short'] == job_title].head(5)\n",
    "    sns.barplot(data=df_plot, x='skill_percent', y='job_skills', ax=ax[i], hue='skill_count', palette='light:seagreen')\n",
    "    ax[i].set_title(job_title)\n",
    "    ax[i].set_ylabel('')\n",
    "    ax[i].set_xlabel('')\n",
    "    ax[i].get_legend().remove()\n",
    "    ax[i].set_xlim(0, 78)\n",
    "    # remove the x-axis tick labels for better readability\n",
    "    if i != len(job_titles) - 1:\n",
    "        ax[i].set_xticks([])\n",
    "\n",
    "    # label the percentage on the bars\n",
    "    for n, v in enumerate(df_plot['skill_percent']):\n",
    "        ax[i].text(v + 1, n, f'{v:.0f}%', va='center')\n",
    "\n",
    "fig.suptitle('Porcentaje de skills requeridas para puestos en Argentina', fontsize=15)\n",
    "fig.tight_layout(h_pad=.8)\n",
    "plt.show()"
   ]
  }
 ],
 "metadata": {
  "kernelspec": {
   "display_name": "Python 3",
   "language": "python",
   "name": "python3"
  },
  "language_info": {
   "codemirror_mode": {
    "name": "ipython",
    "version": 3
   },
   "file_extension": ".py",
   "mimetype": "text/x-python",
   "name": "python",
   "nbconvert_exporter": "python",
   "pygments_lexer": "ipython3",
   "version": "3.12.10"
  }
 },
 "nbformat": 4,
 "nbformat_minor": 5
}
